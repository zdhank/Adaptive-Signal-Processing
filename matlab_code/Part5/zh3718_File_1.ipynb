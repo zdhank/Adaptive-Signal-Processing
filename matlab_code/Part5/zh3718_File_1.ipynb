{
 "cells": [
  {
   "cell_type": "code",
   "execution_count": 1,
   "metadata": {},
   "outputs": [],
   "source": [
    "%load_ext autoreload\n",
    "%autoreload 2\n",
    "%matplotlib inline"
   ]
  },
  {
   "cell_type": "code",
   "execution_count": 2,
   "metadata": {},
   "outputs": [],
   "source": [
    "import numpy as np\n",
    "import matplotlib.pyplot as plt\n",
    "from hottbox.core import Tensor"
   ]
  },
  {
   "cell_type": "markdown",
   "metadata": {
    "toc-hr-collapsed": false
   },
   "source": [
    "[Return to Table of Contents](./0_Table_of_contents.ipynb)"
   ]
  },
  {
   "cell_type": "markdown",
   "metadata": {
    "toc-hr-collapsed": false
   },
   "source": [
    "# Tensors and basic operations"
   ]
  },
  {
   "cell_type": "markdown",
   "metadata": {
    "toc-hr-collapsed": true
   },
   "source": [
    "<img src=\"./imgs/tensors_dogs.jpg\" alt=\"Drawing\" style=\"width: 500px;\"/>\n",
    "\n",
    "A tensor is a multi-dimenaional array of data where each dimension is conventionally referred to as the **mode**. Tensor order is defined by the number of its modes which is equivivalent to the number of indices required to identify a particular entry of a multi-dimensional array. For ease of visualisation and compact notation, we consider a third order tensor $\\mathbf{\\underline{X}} \\in \\mathbb{R}^{I \\times J \\times K}$. Thus, an element of such a tensor, $\\mathbf{\\underline{X}} \\in \\mathbb{R}^{I \\times J \\times K}$, can be written in a general form as:\n",
    "\n",
    "$$ x_{ijk} = \\mathbf{\\underline{X}}[i, j, k]$$\n",
    "\n",
    "> **Note:** In order to be consistent with Python indexing, count of modes and elements within starts from zeros.\n",
    "\n",
    "Creation of a tensor starts with a formation of a multidimensional array of data."
   ]
  },
  {
   "cell_type": "code",
   "execution_count": 3,
   "metadata": {},
   "outputs": [
    {
     "name": "stdout",
     "output_type": "stream",
     "text": [
      "This tensor is of order 3 and consists of 24 elements.\n",
      "Sizes and names of its modes are (2, 3, 4) and ['mode-0', 'mode-1', 'mode-2'] respectively.\n"
     ]
    },
    {
     "data": {
      "text/plain": [
       "array([[[ 0,  1,  2,  3],\n",
       "        [ 4,  5,  6,  7],\n",
       "        [ 8,  9, 10, 11]],\n",
       "\n",
       "       [[12, 13, 14, 15],\n",
       "        [16, 17, 18, 19],\n",
       "        [20, 21, 22, 23]]])"
      ]
     },
     "execution_count": 3,
     "metadata": {},
     "output_type": "execute_result"
    }
   ],
   "source": [
    "# Create 3-d array of data\n",
    "array_3d = np.arange(24).reshape((2, 3, 4))\n",
    "# Create tensor\n",
    "tensor = Tensor(array_3d)\n",
    "# Result preview\n",
    "print(tensor)\n",
    "tensor.data\n"
   ]
  },
  {
   "cell_type": "markdown",
   "metadata": {
    "toc-hr-collapsed": true
   },
   "source": [
    "## **Assigment 1**\n",
    "\n",
    "1. Create a tensor of order 5 (of any shape) and with all its values equal to 5. Then, calculate its Frobenious norm. \n",
    "2. Construct several tensors of orders varying from 3 to 20, with the size of each dimension equal to 2. Plot the relation between an order of a tensor and the number of its elements.\n",
    "3. Construct several tensors of order 3 with the size of each dimension varying from 3 to 15. Plot the relation between the size of dimensions of a tensor and the number of its elements.\n",
    "4. Analyse and compare the so obtained graphs."
   ]
  },
  {
   "cell_type": "markdown",
   "metadata": {},
   "source": [
    "### Solution: Part 1"
   ]
  },
  {
   "cell_type": "code",
   "execution_count": 4,
   "metadata": {},
   "outputs": [
    {
     "name": "stdout",
     "output_type": "stream",
     "text": [
      "This tensor is of order 5 and consists of 48 elements.\n",
      "Sizes and names of its modes are (2, 2, 3, 2, 2) and ['mode-0', 'mode-1', 'mode-2', 'mode-3', 'mode-4'] respectively.\n"
     ]
    }
   ],
   "source": [
    "# Create a tensor\n",
    "array_5d=5*np.ones(48).reshape((2, 2 , 3, 2 ,2))\n",
    "tensor1 = Tensor(array_5d)\n",
    "print(tensor1)"
   ]
  },
  {
   "cell_type": "code",
   "execution_count": 5,
   "metadata": {},
   "outputs": [
    {
     "data": {
      "text/plain": [
       "34.64101615137755"
      ]
     },
     "execution_count": 5,
     "metadata": {},
     "output_type": "execute_result"
    }
   ],
   "source": [
    "# Calculate Frobenious norm\n",
    "tensor1.frob_norm"
   ]
  },
  {
   "cell_type": "markdown",
   "metadata": {},
   "source": [
    "### Solution: Part 2"
   ]
  },
  {
   "cell_type": "code",
   "execution_count": 6,
   "metadata": {},
   "outputs": [],
   "source": [
    "# Create tensors and collect information\n",
    "num=[]\n",
    "for order in range(3,21):\n",
    "    shape=[]\n",
    "    for i in range(order):\n",
    "            shape.append(2)\n",
    "    array=np.ones(2**order).reshape(shape)\n",
    "    tensor2=Tensor(array)\n",
    "    num.append(tensor2.size)"
   ]
  },
  {
   "cell_type": "code",
   "execution_count": 7,
   "metadata": {},
   "outputs": [
    {
     "data": {
      "text/plain": [
       "Text(0,0.5,'Number')"
      ]
     },
     "execution_count": 7,
     "metadata": {},
     "output_type": "execute_result"
    },
    {
     "data": {
      "image/png": "[encoded data removed]",
      "text/plain": [
       "<Figure size 432x288 with 1 Axes>"
      ]
     },
     "metadata": {
      "needs_background": "light"
     },
     "output_type": "display_data"
    }
   ],
   "source": [
    "# Plot results\n",
    "plt.plot(range(3,21),num)\n",
    "plt.title('Elements of varying Order')\n",
    "plt.xlabel('order')\n",
    "plt.ylabel('Number')"
   ]
  },
  {
   "cell_type": "markdown",
   "metadata": {},
   "source": [
    "### Solution: Part 3"
   ]
  },
  {
   "cell_type": "code",
   "execution_count": 8,
   "metadata": {},
   "outputs": [],
   "source": [
    "# Create tensors and collect information\n",
    "num=[]\n",
    "for dim in range(3,16):\n",
    "    array=np.zeros(dim**3).reshape(dim,dim,dim)\n",
    "    tensor3=Tensor(array)\n",
    "    num.append(tensor3.size)"
   ]
  },
  {
   "cell_type": "code",
   "execution_count": 9,
   "metadata": {},
   "outputs": [
    {
     "data": {
      "text/plain": [
       "Text(0,0.5,'Number')"
      ]
     },
     "execution_count": 9,
     "metadata": {},
     "output_type": "execute_result"
    },
    {
     "data": {
      "image/png": "[encoded data removed]",
      "text/plain": [
       "<Figure size 432x288 with 1 Axes>"
      ]
     },
     "metadata": {
      "needs_background": "light"
     },
     "output_type": "display_data"
    }
   ],
   "source": [
    "# Plot results\n",
    "plt.plot(range(3,16),num)\n",
    "plt.title('Elements of varying dimensions')\n",
    "plt.xlabel('dimension')\n",
    "plt.ylabel('Number')"
   ]
  },
  {
   "cell_type": "markdown",
   "metadata": {},
   "source": [
    "### Solution: Part 4"
   ]
  },
  {
   "cell_type": "markdown",
   "metadata": {},
   "source": [
    "When analysing of large size data, using tensor is one way to reduce the computatinal cost. In addition, tre number of elements are related with the order and dimension of each order. Part 2 verifies that the relationship between order and number of elements presents in exponential fuction with base 2, in mathematical expression $y=2^x$. As shown in figure, the number of elements is approximately over $10^6$ when order is 20 even if the dimension is two. As to the effect of dimension, the elements' number increases in cube function $y=x^3$ due to the fixed three dimension. Compared these two plots, the order of tensor will have a decisive role of the number of elements."
   ]
  },
  {
   "cell_type": "markdown",
   "metadata": {
    "toc-hr-collapsed": false
   },
   "source": [
    "# Most common tensor substructures\n",
    "<img src=\"./imgs/tensor_substructures.png\" alt=\"Drawing\" style=\"width: 500px;\"/>\n",
    "\n",
    "1. A **fiber** is a vector obtained by fixing all but one of the indices, e.g.  $\\mathbf{\\underline{X}}[i,:,k]$ is the mode-2 fiber $\\mathbf{\\underline{X}}$ (usually refered to as row fiber). \n",
    "\n",
    "1. Fixing all but two of the indices yields a matrix called a **slice** of a tensor, e.g. $\\mathbf{\\underline{X}}[:,:,k]$ is the mode-[1,2] slice (usually refered to as the frontal slice).\n",
    "\n",
    "**Note:** The same principles and definitions can be applied to a tensor of an arbitrarily large order. In addition, you can obtain a **subtensor** by fixing at least three indices and letting the remaining ones vary."
   ]
  },
  {
   "cell_type": "code",
   "execution_count": 10,
   "metadata": {},
   "outputs": [
    {
     "data": {
      "text/plain": [
       "array([4, 5, 6, 7])"
      ]
     },
     "execution_count": 10,
     "metadata": {},
     "output_type": "execute_result"
    }
   ],
   "source": [
    "# Mode-2 fiber\n",
    "tensor.data[0,1,:]"
   ]
  },
  {
   "cell_type": "code",
   "execution_count": 11,
   "metadata": {},
   "outputs": [
    {
     "data": {
      "text/plain": [
       "array([[ 0,  1,  2,  3],\n",
       "       [ 4,  5,  6,  7],\n",
       "       [ 8,  9, 10, 11]])"
      ]
     },
     "execution_count": 11,
     "metadata": {},
     "output_type": "execute_result"
    }
   ],
   "source": [
    "# Frontal slice\n",
    "tensor.data[0,:,:]"
   ]
  },
  {
   "cell_type": "markdown",
   "metadata": {
    "toc-hr-collapsed": true
   },
   "source": [
    "## **Assigment 2**\n",
    "\n",
    "1. Create a tensor of order 4 which consists of 81 elements and display all its horizontal slices and any five row fibers.\n",
    "2. Create a tensor of order 3 and shape `(4,2,5)`, where the values of each consequent frontal slice are doubled."
   ]
  },
  {
   "cell_type": "markdown",
   "metadata": {},
   "source": [
    "### Solution: Part 1"
   ]
  },
  {
   "cell_type": "code",
   "execution_count": 12,
   "metadata": {},
   "outputs": [
    {
     "data": {
      "text/plain": [
       "array([[[[ 0,  1,  2],\n",
       "         [ 3,  4,  5],\n",
       "         [ 6,  7,  8]],\n",
       "\n",
       "        [[ 9, 10, 11],\n",
       "         [12, 13, 14],\n",
       "         [15, 16, 17]],\n",
       "\n",
       "        [[18, 19, 20],\n",
       "         [21, 22, 23],\n",
       "         [24, 25, 26]]],\n",
       "\n",
       "\n",
       "       [[[27, 28, 29],\n",
       "         [30, 31, 32],\n",
       "         [33, 34, 35]],\n",
       "\n",
       "        [[36, 37, 38],\n",
       "         [39, 40, 41],\n",
       "         [42, 43, 44]],\n",
       "\n",
       "        [[45, 46, 47],\n",
       "         [48, 49, 50],\n",
       "         [51, 52, 53]]],\n",
       "\n",
       "\n",
       "       [[[54, 55, 56],\n",
       "         [57, 58, 59],\n",
       "         [60, 61, 62]],\n",
       "\n",
       "        [[63, 64, 65],\n",
       "         [66, 67, 68],\n",
       "         [69, 70, 71]],\n",
       "\n",
       "        [[72, 73, 74],\n",
       "         [75, 76, 77],\n",
       "         [78, 79, 80]]]])"
      ]
     },
     "execution_count": 12,
     "metadata": {},
     "output_type": "execute_result"
    }
   ],
   "source": [
    "# Create a tensor of order 4\n",
    "array_4d=np.arange(81).reshape(3,3,3,3)\n",
    "tensor4=Tensor(array_4d)\n",
    "tensor4.data"
   ]
  },
  {
   "cell_type": "code",
   "execution_count": 13,
   "metadata": {},
   "outputs": [
    {
     "name": "stdout",
     "output_type": "stream",
     "text": [
      "[[ 0  1  2]\n",
      " [ 9 10 11]\n",
      " [18 19 20]]\n",
      "[[ 3  4  5]\n",
      " [12 13 14]\n",
      " [21 22 23]]\n",
      "[[ 6  7  8]\n",
      " [15 16 17]\n",
      " [24 25 26]]\n",
      "[[27 28 29]\n",
      " [36 37 38]\n",
      " [45 46 47]]\n",
      "[[30 31 32]\n",
      " [39 40 41]\n",
      " [48 49 50]]\n",
      "[[33 34 35]\n",
      " [42 43 44]\n",
      " [51 52 53]]\n",
      "[[54 55 56]\n",
      " [63 64 65]\n",
      " [72 73 74]]\n",
      "[[57 58 59]\n",
      " [66 67 68]\n",
      " [75 76 77]]\n",
      "[[60 61 62]\n",
      " [69 70 71]\n",
      " [78 79 80]]\n"
     ]
    }
   ],
   "source": [
    "# Display slices\n",
    "for i in range(3):\n",
    "    for j in range(3):\n",
    "        print(tensor4.data[i,:,j,:])"
   ]
  },
  {
   "cell_type": "code",
   "execution_count": 14,
   "metadata": {},
   "outputs": [
    {
     "name": "stdout",
     "output_type": "stream",
     "text": [
      "[0 1 2]\n",
      "[3 4 5]\n",
      "[6 7 8]\n",
      "[30 31 32]\n",
      "[39 40 41]\n",
      "[48 49 50]\n"
     ]
    }
   ],
   "source": [
    "# Display fibers\n",
    "for i in range (3):\n",
    "    print(tensor4.data[0,0,i,:])\n",
    "for i in range (3):\n",
    "    print(tensor4.data[1,i,1,:])"
   ]
  },
  {
   "cell_type": "markdown",
   "metadata": {},
   "source": [
    "### Solution: Part 2"
   ]
  },
  {
   "cell_type": "code",
   "execution_count": 15,
   "metadata": {},
   "outputs": [
    {
     "name": "stdout",
     "output_type": "stream",
     "text": [
      "[[0 1 2 3 4]\n",
      " [5 6 7 8 9]]\n",
      "[[ 0  2  4  6  8]\n",
      " [10 12 14 16 18]]\n",
      "[[ 0  4  8 12 16]\n",
      " [20 24 28 32 36]]\n",
      "[[ 0  8 16 24 32]\n",
      " [40 48 56 64 72]]\n"
     ]
    }
   ],
   "source": [
    "# Create a tensor of order 3\n",
    "array=np.arange(40).reshape(4,2,5)\n",
    "for i in range(1,4):\n",
    "    array[i,:,:]=2*array[i-1,:,:]\n",
    "tens=Tensor(array)\n",
    "for i in range(4):\n",
    "    print(tens.data[i,:,:])"
   ]
  },
  {
   "cell_type": "markdown",
   "metadata": {
    "toc-hr-collapsed": false
   },
   "source": [
    "# Unfolding\n",
    "\n",
    "Conventionally, unfolding is considered to be a process of element mapping from a tensor to a matrix. In other words, it arranges the mode-$n$ fibers of a tensor to be the matrix columns. Thus, the mode-$n$ unfolding is denoted as:\n",
    "\n",
    "$$\\mathbf{\\underline{A}} \\xrightarrow{n} \\mathbf{A}_{(n)}$$\n",
    "\n",
    "Thus, this operations requires to specify a mode along which a tensor will be unfolded. For a third order tensor, a visual representation of such operation is as following\n",
    "\n",
    "<img src=\"./imgs/unfolding.png\" alt=\"Drawing\" style=\"width: 600px;\"/>\n",
    "\n",
    "In `hottbox` this functionality is available through the corresponding methods of the `Tensor` object, for instance:"
   ]
  },
  {
   "cell_type": "code",
   "execution_count": 16,
   "metadata": {},
   "outputs": [
    {
     "name": "stdout",
     "output_type": "stream",
     "text": [
      "This tensor is of order 2 and consists of 24 elements.\n",
      "Sizes and names of its modes are (2, 12) and ['mode-0', 'mode-1_mode-2'] respectively.\n"
     ]
    },
    {
     "data": {
      "text/plain": [
       "array([[ 0,  1,  2,  3,  4,  5,  6,  7,  8,  9, 10, 11],\n",
       "       [12, 13, 14, 15, 16, 17, 18, 19, 20, 21, 22, 23]])"
      ]
     },
     "execution_count": 16,
     "metadata": {},
     "output_type": "execute_result"
    }
   ],
   "source": [
    "# Create 3-d array of data\n",
    "array_3d = np.arange(24).reshape((2, 3, 4))\n",
    "\n",
    "# Create tensor\n",
    "tensor = Tensor(array_3d)\n",
    "\n",
    "# Unfolding of a tensor\n",
    "tensor.unfold(mode=0)\n",
    "\n",
    "# Result preview\n",
    "print(tensor)\n",
    "tensor.data"
   ]
  },
  {
   "cell_type": "markdown",
   "metadata": {
    "toc-hr-collapsed": true
   },
   "source": [
    "## **Assigment 3**\n",
    "\n",
    "1. Create a tensor, $\\mathbf{\\underline{A}}$, of order 4, in such a way that its version unfolded along the second mode would have sizes `(5,72)`, that is $\\mathbf{A}_{(n)} \\in  \\mathbb{R}^{5 \\times 72}$. Validate your results by displaying the unfolded tensor."
   ]
  },
  {
   "cell_type": "markdown",
   "metadata": {},
   "source": [
    "### Solution : Part 1"
   ]
  },
  {
   "cell_type": "code",
   "execution_count": 17,
   "metadata": {},
   "outputs": [],
   "source": [
    "# Create a tensor\n",
    "array=np.arange(5*72).reshape(4,2,9,5)\n",
    "A=Tensor(array)"
   ]
  },
  {
   "cell_type": "code",
   "execution_count": 18,
   "metadata": {},
   "outputs": [
    {
     "name": "stdout",
     "output_type": "stream",
     "text": [
      "This tensor is of order 2 and consists of 360 elements.\n",
      "Sizes and names of its modes are (5, 72) and ['mode-3', 'mode-0_mode-1_mode-2'] respectively.\n"
     ]
    },
    {
     "data": {
      "text/plain": [
       "array([[  0,   5,  10,  15,  20,  25,  30,  35,  40,  45,  50,  55,  60,\n",
       "         65,  70,  75,  80,  85,  90,  95, 100, 105, 110, 115, 120, 125,\n",
       "        130, 135, 140, 145, 150, 155, 160, 165, 170, 175, 180, 185, 190,\n",
       "        195, 200, 205, 210, 215, 220, 225, 230, 235, 240, 245, 250, 255,\n",
       "        260, 265, 270, 275, 280, 285, 290, 295, 300, 305, 310, 315, 320,\n",
       "        325, 330, 335, 340, 345, 350, 355],\n",
       "       [  1,   6,  11,  16,  21,  26,  31,  36,  41,  46,  51,  56,  61,\n",
       "         66,  71,  76,  81,  86,  91,  96, 101, 106, 111, 116, 121, 126,\n",
       "        131, 136, 141, 146, 151, 156, 161, 166, 171, 176, 181, 186, 191,\n",
       "        196, 201, 206, 211, 216, 221, 226, 231, 236, 241, 246, 251, 256,\n",
       "        261, 266, 271, 276, 281, 286, 291, 296, 301, 306, 311, 316, 321,\n",
       "        326, 331, 336, 341, 346, 351, 356],\n",
       "       [  2,   7,  12,  17,  22,  27,  32,  37,  42,  47,  52,  57,  62,\n",
       "         67,  72,  77,  82,  87,  92,  97, 102, 107, 112, 117, 122, 127,\n",
       "        132, 137, 142, 147, 152, 157, 162, 167, 172, 177, 182, 187, 192,\n",
       "        197, 202, 207, 212, 217, 222, 227, 232, 237, 242, 247, 252, 257,\n",
       "        262, 267, 272, 277, 282, 287, 292, 297, 302, 307, 312, 317, 322,\n",
       "        327, 332, 337, 342, 347, 352, 357],\n",
       "       [  3,   8,  13,  18,  23,  28,  33,  38,  43,  48,  53,  58,  63,\n",
       "         68,  73,  78,  83,  88,  93,  98, 103, 108, 113, 118, 123, 128,\n",
       "        133, 138, 143, 148, 153, 158, 163, 168, 173, 178, 183, 188, 193,\n",
       "        198, 203, 208, 213, 218, 223, 228, 233, 238, 243, 248, 253, 258,\n",
       "        263, 268, 273, 278, 283, 288, 293, 298, 303, 308, 313, 318, 323,\n",
       "        328, 333, 338, 343, 348, 353, 358],\n",
       "       [  4,   9,  14,  19,  24,  29,  34,  39,  44,  49,  54,  59,  64,\n",
       "         69,  74,  79,  84,  89,  94,  99, 104, 109, 114, 119, 124, 129,\n",
       "        134, 139, 144, 149, 154, 159, 164, 169, 174, 179, 184, 189, 194,\n",
       "        199, 204, 209, 214, 219, 224, 229, 234, 239, 244, 249, 254, 259,\n",
       "        264, 269, 274, 279, 284, 289, 294, 299, 304, 309, 314, 319, 324,\n",
       "        329, 334, 339, 344, 349, 354, 359]])"
      ]
     },
     "execution_count": 18,
     "metadata": {},
     "output_type": "execute_result"
    }
   ],
   "source": [
    "# Display unfolded version\n",
    "A.unfold(mode=3)\n",
    "print(A)\n",
    "A.data"
   ]
  },
  {
   "cell_type": "markdown",
   "metadata": {
    "toc-hr-collapsed": false
   },
   "source": [
    "# Mode-n product \n",
    "<img src=\"./imgs/mode_n_product.png\" alt=\"Drawing\" style=\"width: 600px;\"/>\n",
    "\n",
    "The mode-$n$ product is a multiplication of a tensor  by a matrix along the $n^{th}$ mode of a tensor. This essentially means that each mode-$n$ fiber should be multiplied by this matrix. Mathematically, this can be expressed as:\n",
    "\n",
    "$$\\mathbf{\\underline{X}} \\times_n \\mathbf{A} = \\mathbf{\\underline{Y}} \\quad \\Leftrightarrow  \\quad \\mathbf{Y}_{(n)} = \\mathbf{A} \\mathbf{X}_{(n)}  $$"
   ]
  },
  {
   "cell_type": "code",
   "execution_count": 19,
   "metadata": {},
   "outputs": [
    {
     "name": "stdout",
     "output_type": "stream",
     "text": [
      "This tensor is of order 3 and consists of 40 elements.\n",
      "Sizes and names of its modes are (2, 5, 4) and ['mode-0', 'mode-1', 'mode-2'] respectively.\n"
     ]
    },
    {
     "data": {
      "text/plain": [
       "array([[ 20,  23,  26,  29,  56,  59,  62,  65],\n",
       "       [ 56,  68,  80,  92, 200, 212, 224, 236],\n",
       "       [ 92, 113, 134, 155, 344, 365, 386, 407],\n",
       "       [128, 158, 188, 218, 488, 518, 548, 578],\n",
       "       [164, 203, 242, 281, 632, 671, 710, 749]])"
      ]
     },
     "execution_count": 19,
     "metadata": {},
     "output_type": "execute_result"
    }
   ],
   "source": [
    "I, J, K = 2, 3, 4\n",
    "J_new = 5\n",
    "\n",
    "# Create tensor\n",
    "array_3d = np.arange(I * J * K).reshape(I, J ,K)\n",
    "X = Tensor(array_3d)\n",
    "\n",
    "# Create matrix\n",
    "A = np.arange(J_new * J).reshape(J_new, J)\n",
    "\n",
    "# Performs Mode-n product \n",
    "Y = X.mode_n_product(A, mode=1, inplace=False)\n",
    "\n",
    "# Preview of resulting tensor\n",
    "print(Y)\n",
    "\n",
    "# Preview of its unfolded version\n",
    "Y.unfold(mode=1, inplace=False).data"
   ]
  },
  {
   "cell_type": "markdown",
   "metadata": {
    "toc-hr-collapsed": true
   },
   "source": [
    "## **Assignment 4**\n",
    "\n",
    "1. Perform the mode-$n$ product of a 3-rd order tensor, $\\mathbf{\\underline{X}}$, with a matrix, $\\mathbf{A} \\in  \\mathbb{R}^{5 \\times 4}$, provided that the resulting tensor, $\\mathbf{\\underline{Y}}$, consists of `100` elements. Validate your results. \n",
    "\n",
    "> **Note:** You are encouraged to experiment with the optional parameter `inplace` and to investigate its effect on the result."
   ]
  },
  {
   "cell_type": "markdown",
   "metadata": {},
   "source": [
    "### Solution: Part 1"
   ]
  },
  {
   "cell_type": "code",
   "execution_count": 20,
   "metadata": {},
   "outputs": [
    {
     "data": {
      "text/plain": [
       "array([[[1., 1., 1., 1., 1.],\n",
       "        [1., 1., 1., 1., 1.],\n",
       "        [1., 1., 1., 1., 1.],\n",
       "        [1., 1., 1., 1., 1.]],\n",
       "\n",
       "       [[1., 1., 1., 1., 1.],\n",
       "        [1., 1., 1., 1., 1.],\n",
       "        [1., 1., 1., 1., 1.],\n",
       "        [1., 1., 1., 1., 1.]],\n",
       "\n",
       "       [[1., 1., 1., 1., 1.],\n",
       "        [1., 1., 1., 1., 1.],\n",
       "        [1., 1., 1., 1., 1.],\n",
       "        [1., 1., 1., 1., 1.]],\n",
       "\n",
       "       [[1., 1., 1., 1., 1.],\n",
       "        [1., 1., 1., 1., 1.],\n",
       "        [1., 1., 1., 1., 1.],\n",
       "        [1., 1., 1., 1., 1.]],\n",
       "\n",
       "       [[1., 1., 1., 1., 1.],\n",
       "        [1., 1., 1., 1., 1.],\n",
       "        [1., 1., 1., 1., 1.],\n",
       "        [1., 1., 1., 1., 1.]],\n",
       "\n",
       "       [[1., 1., 1., 1., 1.],\n",
       "        [1., 1., 1., 1., 1.],\n",
       "        [1., 1., 1., 1., 1.],\n",
       "        [1., 1., 1., 1., 1.]]])"
      ]
     },
     "execution_count": 20,
     "metadata": {},
     "output_type": "execute_result"
    }
   ],
   "source": [
    "# Create original tensor \n",
    "I,J,K=6,4,5\n",
    "array = np.ones(I * J * K).reshape(I, J ,K)\n",
    "X = Tensor(array)\n",
    "X.data"
   ]
  },
  {
   "cell_type": "code",
   "execution_count": 21,
   "metadata": {},
   "outputs": [
    {
     "name": "stdout",
     "output_type": "stream",
     "text": [
      "[[ 0  1  2  3  4  5]\n",
      " [ 6  7  8  9 10 11]\n",
      " [12 13 14 15 16 17]\n",
      " [18 19 20 21 22 23]\n",
      " [24 25 26 27 28 29]]\n"
     ]
    }
   ],
   "source": [
    "# Create matrix\n",
    "I_new=5\n",
    "A = np.arange(I_new * I).reshape(I_new, I)\n",
    "print(A)"
   ]
  },
  {
   "cell_type": "code",
   "execution_count": 22,
   "metadata": {},
   "outputs": [],
   "source": [
    "# Perform mode-n product \n",
    "Y = X.mode_n_product(A, mode=0, inplace=False)"
   ]
  },
  {
   "cell_type": "code",
   "execution_count": 23,
   "metadata": {},
   "outputs": [
    {
     "name": "stdout",
     "output_type": "stream",
     "text": [
      "Tensor Y\n",
      "This tensor is of order 3 and consists of 100 elements.\n",
      "Sizes and names of its modes are (5, 4, 5) and ['mode-0', 'mode-1', 'mode-2'] respectively.\n",
      "Tensor X without inplace\n",
      "This tensor is of order 3 and consists of 120 elements.\n",
      "Sizes and names of its modes are (6, 4, 5) and ['mode-0', 'mode-1', 'mode-2'] respectively.\n",
      "Tensor X with inplace\n",
      "This tensor is of order 3 and consists of 100 elements.\n",
      "Sizes and names of its modes are (5, 4, 5) and ['mode-0', 'mode-1', 'mode-2'] respectively.\n"
     ]
    },
    {
     "data": {
      "text/plain": [
       "array([[[ 15.,  15.,  15.,  15.,  15.],\n",
       "        [ 15.,  15.,  15.,  15.,  15.],\n",
       "        [ 15.,  15.,  15.,  15.,  15.],\n",
       "        [ 15.,  15.,  15.,  15.,  15.]],\n",
       "\n",
       "       [[ 51.,  51.,  51.,  51.,  51.],\n",
       "        [ 51.,  51.,  51.,  51.,  51.],\n",
       "        [ 51.,  51.,  51.,  51.,  51.],\n",
       "        [ 51.,  51.,  51.,  51.,  51.]],\n",
       "\n",
       "       [[ 87.,  87.,  87.,  87.,  87.],\n",
       "        [ 87.,  87.,  87.,  87.,  87.],\n",
       "        [ 87.,  87.,  87.,  87.,  87.],\n",
       "        [ 87.,  87.,  87.,  87.,  87.]],\n",
       "\n",
       "       [[123., 123., 123., 123., 123.],\n",
       "        [123., 123., 123., 123., 123.],\n",
       "        [123., 123., 123., 123., 123.],\n",
       "        [123., 123., 123., 123., 123.]],\n",
       "\n",
       "       [[159., 159., 159., 159., 159.],\n",
       "        [159., 159., 159., 159., 159.],\n",
       "        [159., 159., 159., 159., 159.],\n",
       "        [159., 159., 159., 159., 159.]]])"
      ]
     },
     "execution_count": 23,
     "metadata": {},
     "output_type": "execute_result"
    }
   ],
   "source": [
    "# Validate equivalence between the left and right hand side\n",
    "print('Tensor Y')\n",
    "print(Y)\n",
    "# use inplace=True will moidfy itself and size (4,4,5) to (5,4,5)\n",
    "print('Tensor X without inplace')\n",
    "print(X)\n",
    "X.mode_n_product(A, mode=0, inplace=True)\n",
    "print('Tensor X with inplace')\n",
    "print(X)\n",
    "Y.data"
   ]
  },
  {
   "cell_type": "markdown",
   "metadata": {},
   "source": [
    "# Properties of mode-n product\n",
    "\n",
    "1. For distinct modes in a series of multiplications, the order of the multiplication is : \n",
    "\n",
    "    $$\\mathbf{\\underline{X}} \\times_n \\mathbf{A} \\times_m \\mathbf{B} = \\mathbf{\\underline{X}} \\times_m \\mathbf{B} \\times_n \\mathbf{A} \\quad (m \\neq n)$$\n",
    "\n",
    "1. However, this does not hold if the modes are the same :\n",
    "\n",
    "    $$\\mathbf{\\underline{X}} \\times_n \\mathbf{A} \\times_n \\mathbf{B} = \\mathbf{\\underline{X}} \\times_n (\\mathbf{B}\\mathbf{A})$$"
   ]
  },
  {
   "cell_type": "markdown",
   "metadata": {
    "toc-hr-collapsed": true
   },
   "source": [
    "## **Assignment 5**\n",
    "\n",
    "1. Validate both of the above properties empirically \n",
    "2. Prove the second property analytically\n",
    "\n",
    "> **Note:** Be aware of consequences of the optional parameter `inplace` (its default value is set to `True`)."
   ]
  },
  {
   "cell_type": "markdown",
   "metadata": {},
   "source": [
    "### Solution: Part 1"
   ]
  },
  {
   "cell_type": "code",
   "execution_count": 24,
   "metadata": {},
   "outputs": [],
   "source": [
    "# Create tensor\n",
    "array=np.ones(2*4*6).reshape(2,4,6)\n",
    "X=Tensor(array)"
   ]
  },
  {
   "cell_type": "code",
   "execution_count": 25,
   "metadata": {},
   "outputs": [],
   "source": [
    "# Create matrices\n",
    "A1=np.arange(3*2).reshape(3,2)\n",
    "B1=np.arange(2*4).reshape(2,4)\n",
    "B2=np.arange(4*3).reshape(4,3)"
   ]
  },
  {
   "cell_type": "code",
   "execution_count": 26,
   "metadata": {},
   "outputs": [
    {
     "name": "stdout",
     "output_type": "stream",
     "text": [
      "This tensor is of order 3 and consists of 36 elements.\n",
      "Sizes and names of its modes are (3, 2, 6) and ['mode-0', 'mode-1', 'mode-2'] respectively.\n",
      "[[[  6.   6.   6.   6.   6.   6.]\n",
      "  [ 22.  22.  22.  22.  22.  22.]]\n",
      "\n",
      " [[ 30.  30.  30.  30.  30.  30.]\n",
      "  [110. 110. 110. 110. 110. 110.]]\n",
      "\n",
      " [[ 54.  54.  54.  54.  54.  54.]\n",
      "  [198. 198. 198. 198. 198. 198.]]]\n",
      "This tensor is of order 3 and consists of 36 elements.\n",
      "Sizes and names of its modes are (3, 2, 6) and ['mode-0', 'mode-1', 'mode-2'] respectively.\n",
      "[[[  6.   6.   6.   6.   6.   6.]\n",
      "  [ 22.  22.  22.  22.  22.  22.]]\n",
      "\n",
      " [[ 30.  30.  30.  30.  30.  30.]\n",
      "  [110. 110. 110. 110. 110. 110.]]\n",
      "\n",
      " [[ 54.  54.  54.  54.  54.  54.]\n",
      "  [198. 198. 198. 198. 198. 198.]]]\n",
      "Left is equal to Right\n"
     ]
    }
   ],
   "source": [
    "# Validate property 1\n",
    "left=X.mode_n_product(A1, mode=0, inplace=False)\n",
    "left.mode_n_product(B1, mode=1)\n",
    "print(left)\n",
    "print(left.data)\n",
    "right=X.mode_n_product(B1, mode=1, inplace=False)\n",
    "right.mode_n_product(A1, mode=0)\n",
    "print(right)\n",
    "print(right.data)\n",
    "if left.data.all()==right.data.all():\n",
    "    print('Left is equal to Right')"
   ]
  },
  {
   "cell_type": "code",
   "execution_count": 27,
   "metadata": {},
   "outputs": [
    {
     "name": "stdout",
     "output_type": "stream",
     "text": [
      "This tensor is of order 3 and consists of 96 elements.\n",
      "Sizes and names of its modes are (4, 4, 6) and ['mode-0', 'mode-1', 'mode-2'] respectively.\n",
      "[[[ 23.  23.  23.  23.  23.  23.]\n",
      "  [ 23.  23.  23.  23.  23.  23.]\n",
      "  [ 23.  23.  23.  23.  23.  23.]\n",
      "  [ 23.  23.  23.  23.  23.  23.]]\n",
      "\n",
      " [[ 68.  68.  68.  68.  68.  68.]\n",
      "  [ 68.  68.  68.  68.  68.  68.]\n",
      "  [ 68.  68.  68.  68.  68.  68.]\n",
      "  [ 68.  68.  68.  68.  68.  68.]]\n",
      "\n",
      " [[113. 113. 113. 113. 113. 113.]\n",
      "  [113. 113. 113. 113. 113. 113.]\n",
      "  [113. 113. 113. 113. 113. 113.]\n",
      "  [113. 113. 113. 113. 113. 113.]]\n",
      "\n",
      " [[158. 158. 158. 158. 158. 158.]\n",
      "  [158. 158. 158. 158. 158. 158.]\n",
      "  [158. 158. 158. 158. 158. 158.]\n",
      "  [158. 158. 158. 158. 158. 158.]]]\n",
      "This tensor is of order 3 and consists of 96 elements.\n",
      "Sizes and names of its modes are (4, 4, 6) and ['mode-0', 'mode-1', 'mode-2'] respectively.\n",
      "[[[ 23.  23.  23.  23.  23.  23.]\n",
      "  [ 23.  23.  23.  23.  23.  23.]\n",
      "  [ 23.  23.  23.  23.  23.  23.]\n",
      "  [ 23.  23.  23.  23.  23.  23.]]\n",
      "\n",
      " [[ 68.  68.  68.  68.  68.  68.]\n",
      "  [ 68.  68.  68.  68.  68.  68.]\n",
      "  [ 68.  68.  68.  68.  68.  68.]\n",
      "  [ 68.  68.  68.  68.  68.  68.]]\n",
      "\n",
      " [[113. 113. 113. 113. 113. 113.]\n",
      "  [113. 113. 113. 113. 113. 113.]\n",
      "  [113. 113. 113. 113. 113. 113.]\n",
      "  [113. 113. 113. 113. 113. 113.]]\n",
      "\n",
      " [[158. 158. 158. 158. 158. 158.]\n",
      "  [158. 158. 158. 158. 158. 158.]\n",
      "  [158. 158. 158. 158. 158. 158.]\n",
      "  [158. 158. 158. 158. 158. 158.]]]\n",
      "Left is equal to Right\n"
     ]
    }
   ],
   "source": [
    "# Validate property 2\n",
    "left=X.mode_n_product(A1, mode=0, inplace=False)\n",
    "left.mode_n_product(B2, mode=0)\n",
    "print(left)\n",
    "print(left.data)\n",
    "right=X.mode_n_product(B2@A1, mode=0, inplace=False)\n",
    "print(right)\n",
    "print(right.data)\n",
    "if left.data.all()==right.data.all():\n",
    "    print('Left is equal to Right')"
   ]
  },
  {
   "cell_type": "markdown",
   "metadata": {
    "toc-hr-collapsed": true
   },
   "source": [
    "### Solution: Part 2\n",
    "\n",
    "Use [LaTeX syntax](https://stackoverflow.com/questions/13208286/how-to-write-latex-in-ipython-notebook) for analytical deriviations for the second property below.\n"
   ]
  },
  {
   "cell_type": "markdown",
   "metadata": {},
   "source": [
    "Based on the relationship in Assignment 4:\n",
    "$$\\mathbf{\\underline{X}} \\times_n \\mathbf{A} = \\mathbf{\\underline{Y}} \\quad \\Leftrightarrow  \\quad \\mathbf{Y}_{(n)} = \\mathbf{A} \\mathbf{X}_{(n)}  $$\n",
    "The first two term on the left side can be expressed as: \n",
    "$$\n",
    "\\mathbf{\\underline{X}} \\times_n \\mathbf{A}= \\mathbf{A}\\times \\mathbf{X}_{(n)}=\\mathbf Y_{(n)}\\Rightarrow \\mathbf{\\underline{Y}}\n",
    "$$\n",
    "Then, make product with $_n\\mathbf {B}$:\n",
    "$$\n",
    "\\begin{align}\n",
    "\\mathbf{\\underline{Y}}\\times_n\\mathbf{B}\n",
    "&=\\mathbf{B}\\times \\mathbf{Y}_{(n)}\\\\\n",
    "&=\\mathbf{B}\\times\\mathbf{A}\\times \\mathbf{X}_{(n)}\\\\\n",
    "&=(\\mathbf{B}\\mathbf{A})\\times \\mathbf{X}_{(n)}\\\\\n",
    "\\end{align}\n",
    "$$\n",
    "Thus, for the second property, the left side can be expressed as:\n",
    "$$\n",
    "(\\mathbf{B}\\mathbf{A})\\times \\mathbf{X}_{(n)}=\\mathbf{\\underline X}\\times _n(\\mathbf{BA})\\\\\n",
    "\\Rightarrow \\mathbf{\\underline{X}} \\times_n \\mathbf{A} \\times_n \\mathbf{B} = \\mathbf{\\underline{X}} \\times_n (\\mathbf{B}\\mathbf{A})\n",
    "$$"
   ]
  }
 ],
 "metadata": {
  "kernelspec": {
   "display_name": "Python 3",
   "language": "python",
   "name": "python3"
  },
  "language_info": {
   "codemirror_mode": {
    "name": "ipython",
    "version": 3
   },
   "file_extension": ".py",
   "mimetype": "text/x-python",
   "name": "python",
   "nbconvert_exporter": "python",
   "pygments_lexer": "ipython3",
   "version": "3.7.0"
  },
  "toc-autonumbering": false,
  "toc-showcode": false,
  "toc-showmarkdowntxt": false
 },
 "nbformat": 4,
 "nbformat_minor": 2
}
